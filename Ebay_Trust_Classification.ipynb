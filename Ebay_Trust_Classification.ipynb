{
  "nbformat": 4,
  "nbformat_minor": 0,
  "metadata": {
    "colab": {
      "name": "Ebay-Trust-Classification.ipynb",
      "provenance": []
    },
    "kernelspec": {
      "name": "python3",
      "display_name": "Python 3"
    },
    "language_info": {
      "name": "python"
    }
  },
  "cells": [
    {
      "cell_type": "code",
      "metadata": {
        "id": "SkzABV_4zngJ"
      },
      "source": [
        "import pandas as pd\n",
        "import random\n",
        "import numpy as np"
      ],
      "execution_count": 340,
      "outputs": []
    },
    {
      "cell_type": "code",
      "metadata": {
        "id": "k8gCpDtNz40q"
      },
      "source": [
        "dataset = pd.read_csv('csv_result-ebay_confianca_completo.csv')"
      ],
      "execution_count": 341,
      "outputs": []
    },
    {
      "cell_type": "code",
      "metadata": {
        "colab": {
          "base_uri": "https://localhost:8080/"
        },
        "id": "uFi_kRe20IPV",
        "outputId": "40d6a144-ced1-4fa4-c616-4c9676c22380"
      },
      "source": [
        "dataset.shape"
      ],
      "execution_count": 342,
      "outputs": [
        {
          "output_type": "execute_result",
          "data": {
            "text/plain": [
              "(5806, 75)"
            ]
          },
          "metadata": {
            "tags": []
          },
          "execution_count": 342
        }
      ]
    },
    {
      "cell_type": "code",
      "metadata": {
        "colab": {
          "base_uri": "https://localhost:8080/",
          "height": 224
        },
        "id": "4tSN_Xfu0KAr",
        "outputId": "11ce1a0f-fe09-4e5a-8843-39babc709f22"
      },
      "source": [
        "dataset.head()"
      ],
      "execution_count": 304,
      "outputs": [
        {
          "output_type": "execute_result",
          "data": {
            "text/html": [
              "<div>\n",
              "<style scoped>\n",
              "    .dataframe tbody tr th:only-of-type {\n",
              "        vertical-align: middle;\n",
              "    }\n",
              "\n",
              "    .dataframe tbody tr th {\n",
              "        vertical-align: top;\n",
              "    }\n",
              "\n",
              "    .dataframe thead th {\n",
              "        text-align: right;\n",
              "    }\n",
              "</style>\n",
              "<table border=\"1\" class=\"dataframe\">\n",
              "  <thead>\n",
              "    <tr style=\"text-align: right;\">\n",
              "      <th></th>\n",
              "      <th>feedbacks</th>\n",
              "      <th>reviews</th>\n",
              "      <th>blacklist</th>\n",
              "      <th>mextraversion</th>\n",
              "      <th>cextraversion</th>\n",
              "      <th>sextraversion</th>\n",
              "      <th>mneuroticism</th>\n",
              "      <th>cneuroticism</th>\n",
              "      <th>sneuroticism</th>\n",
              "      <th>mconscientiousness</th>\n",
              "      <th>cconscientiousness</th>\n",
              "      <th>sconscientiousness</th>\n",
              "      <th>magreeableness</th>\n",
              "      <th>cagreeableness</th>\n",
              "      <th>sagreeableness</th>\n",
              "      <th>mopenness</th>\n",
              "      <th>copenness</th>\n",
              "      <th>sopenness</th>\n",
              "      <th>agreeablenessIndico</th>\n",
              "      <th>conscientiousnessIndico</th>\n",
              "      <th>extraversionIndico</th>\n",
              "      <th>opennessIndico</th>\n",
              "      <th>openessWatson</th>\n",
              "      <th>conscientiousnessWatson</th>\n",
              "      <th>extraversionWatson</th>\n",
              "      <th>agreeablenessWatson</th>\n",
              "      <th>neuroticismWatson</th>\n",
              "      <th>o_adventure</th>\n",
              "      <th>o_artistic</th>\n",
              "      <th>o_emotionality</th>\n",
              "      <th>o_imagination</th>\n",
              "      <th>o_intelect</th>\n",
              "      <th>o_liberalism</th>\n",
              "      <th>c_achievement</th>\n",
              "      <th>c_cautiouness</th>\n",
              "      <th>c_dutifulness</th>\n",
              "      <th>c_orderliness</th>\n",
              "      <th>c_discipline</th>\n",
              "      <th>c_efficacy</th>\n",
              "      <th>e_activity</th>\n",
              "      <th>e_assertiveness</th>\n",
              "      <th>e_cheerfulness</th>\n",
              "      <th>e_excitement</th>\n",
              "      <th>e_friend</th>\n",
              "      <th>e_gregariouness</th>\n",
              "      <th>a_altruism</th>\n",
              "      <th>a_cooperation</th>\n",
              "      <th>a_modesty</th>\n",
              "      <th>a_morality</th>\n",
              "      <th>a_simpathy</th>\n",
              "      <th>a_trust</th>\n",
              "      <th>n_anger</th>\n",
              "      <th>n_anxiety</th>\n",
              "      <th>n_depression</th>\n",
              "      <th>n_immoderation</th>\n",
              "      <th>n_selfconsciouness</th>\n",
              "      <th>n_vulnerability</th>\n",
              "      <th>need_chalenge</th>\n",
              "      <th>need_closeness</th>\n",
              "      <th>need_curiosity</th>\n",
              "      <th>need_excitement</th>\n",
              "      <th>need_harmony</th>\n",
              "      <th>need_ideal</th>\n",
              "      <th>need_liberty</th>\n",
              "      <th>need_love</th>\n",
              "      <th>need_practicaly</th>\n",
              "      <th>need_selfexpression</th>\n",
              "      <th>need_stability</th>\n",
              "      <th>need_structure</th>\n",
              "      <th>value_conservation</th>\n",
              "      <th>value_openess</th>\n",
              "      <th>value_hedonism</th>\n",
              "      <th>value_selfenhancement</th>\n",
              "      <th>value_selftranscendence</th>\n",
              "      <th>reputation</th>\n",
              "    </tr>\n",
              "  </thead>\n",
              "  <tbody>\n",
              "    <tr>\n",
              "      <th>2</th>\n",
              "      <td>0</td>\n",
              "      <td>49</td>\n",
              "      <td>N</td>\n",
              "      <td>4.181642</td>\n",
              "      <td>0.6</td>\n",
              "      <td>1</td>\n",
              "      <td>2.777591</td>\n",
              "      <td>0.6</td>\n",
              "      <td>0</td>\n",
              "      <td>4.085460</td>\n",
              "      <td>0.5</td>\n",
              "      <td>0</td>\n",
              "      <td>4.110703</td>\n",
              "      <td>0.4</td>\n",
              "      <td>0</td>\n",
              "      <td>5.645506</td>\n",
              "      <td>0.6</td>\n",
              "      <td>1</td>\n",
              "      <td>0.684026</td>\n",
              "      <td>0.410566</td>\n",
              "      <td>0.646393</td>\n",
              "      <td>0.541885</td>\n",
              "      <td>0.835889</td>\n",
              "      <td>0.607272</td>\n",
              "      <td>0.589781</td>\n",
              "      <td>0.797063</td>\n",
              "      <td>0.449051</td>\n",
              "      <td>0.479940</td>\n",
              "      <td>0.753559</td>\n",
              "      <td>0.744320</td>\n",
              "      <td>0.758126</td>\n",
              "      <td>0.684179</td>\n",
              "      <td>0.526194</td>\n",
              "      <td>0.683279</td>\n",
              "      <td>0.559430</td>\n",
              "      <td>0.667665</td>\n",
              "      <td>0.522323</td>\n",
              "      <td>0.570964</td>\n",
              "      <td>0.746656</td>\n",
              "      <td>0.496348</td>\n",
              "      <td>0.649539</td>\n",
              "      <td>0.577345</td>\n",
              "      <td>0.553578</td>\n",
              "      <td>0.541931</td>\n",
              "      <td>0.350008</td>\n",
              "      <td>0.750762</td>\n",
              "      <td>0.626144</td>\n",
              "      <td>0.476133</td>\n",
              "      <td>0.701773</td>\n",
              "      <td>0.764204</td>\n",
              "      <td>0.512819</td>\n",
              "      <td>0.569980</td>\n",
              "      <td>0.611817</td>\n",
              "      <td>0.446330</td>\n",
              "      <td>0.468466</td>\n",
              "      <td>0.542865</td>\n",
              "      <td>0.442188</td>\n",
              "      <td>0.587795</td>\n",
              "      <td>0.833622</td>\n",
              "      <td>0.810144</td>\n",
              "      <td>0.462635</td>\n",
              "      <td>0.852183</td>\n",
              "      <td>0.628620</td>\n",
              "      <td>0.681354</td>\n",
              "      <td>0.820817</td>\n",
              "      <td>0.696359</td>\n",
              "      <td>0.698786</td>\n",
              "      <td>0.756963</td>\n",
              "      <td>0.660119</td>\n",
              "      <td>0.619416</td>\n",
              "      <td>0.746372</td>\n",
              "      <td>0.640073</td>\n",
              "      <td>0.598037</td>\n",
              "      <td>0.828716</td>\n",
              "      <td>Bom</td>\n",
              "    </tr>\n",
              "    <tr>\n",
              "      <th>3</th>\n",
              "      <td>0</td>\n",
              "      <td>56</td>\n",
              "      <td>N</td>\n",
              "      <td>4.007042</td>\n",
              "      <td>0.6</td>\n",
              "      <td>0</td>\n",
              "      <td>2.698650</td>\n",
              "      <td>0.6</td>\n",
              "      <td>0</td>\n",
              "      <td>4.187338</td>\n",
              "      <td>0.5</td>\n",
              "      <td>0</td>\n",
              "      <td>3.806675</td>\n",
              "      <td>0.4</td>\n",
              "      <td>0</td>\n",
              "      <td>6.190563</td>\n",
              "      <td>0.6</td>\n",
              "      <td>1</td>\n",
              "      <td>0.464647</td>\n",
              "      <td>0.431002</td>\n",
              "      <td>0.569719</td>\n",
              "      <td>0.588085</td>\n",
              "      <td>0.830316</td>\n",
              "      <td>0.572403</td>\n",
              "      <td>0.564882</td>\n",
              "      <td>0.722874</td>\n",
              "      <td>0.461567</td>\n",
              "      <td>0.478643</td>\n",
              "      <td>0.710639</td>\n",
              "      <td>0.701289</td>\n",
              "      <td>0.782399</td>\n",
              "      <td>0.716377</td>\n",
              "      <td>0.547235</td>\n",
              "      <td>0.657048</td>\n",
              "      <td>0.510715</td>\n",
              "      <td>0.654974</td>\n",
              "      <td>0.505224</td>\n",
              "      <td>0.543689</td>\n",
              "      <td>0.754035</td>\n",
              "      <td>0.463572</td>\n",
              "      <td>0.667516</td>\n",
              "      <td>0.547494</td>\n",
              "      <td>0.580140</td>\n",
              "      <td>0.514974</td>\n",
              "      <td>0.327534</td>\n",
              "      <td>0.724414</td>\n",
              "      <td>0.556060</td>\n",
              "      <td>0.424484</td>\n",
              "      <td>0.610452</td>\n",
              "      <td>0.757238</td>\n",
              "      <td>0.514746</td>\n",
              "      <td>0.595900</td>\n",
              "      <td>0.623953</td>\n",
              "      <td>0.500948</td>\n",
              "      <td>0.467786</td>\n",
              "      <td>0.569568</td>\n",
              "      <td>0.408936</td>\n",
              "      <td>0.596168</td>\n",
              "      <td>0.766870</td>\n",
              "      <td>0.790915</td>\n",
              "      <td>0.473358</td>\n",
              "      <td>0.800680</td>\n",
              "      <td>0.628022</td>\n",
              "      <td>0.667925</td>\n",
              "      <td>0.785016</td>\n",
              "      <td>0.715300</td>\n",
              "      <td>0.664572</td>\n",
              "      <td>0.728806</td>\n",
              "      <td>0.660740</td>\n",
              "      <td>0.588969</td>\n",
              "      <td>0.735915</td>\n",
              "      <td>0.644465</td>\n",
              "      <td>0.603042</td>\n",
              "      <td>0.809379</td>\n",
              "      <td>Bom</td>\n",
              "    </tr>\n",
              "    <tr>\n",
              "      <th>4</th>\n",
              "      <td>0</td>\n",
              "      <td>50</td>\n",
              "      <td>N</td>\n",
              "      <td>4.538230</td>\n",
              "      <td>0.7</td>\n",
              "      <td>1</td>\n",
              "      <td>2.298492</td>\n",
              "      <td>0.5</td>\n",
              "      <td>1</td>\n",
              "      <td>5.085833</td>\n",
              "      <td>0.5</td>\n",
              "      <td>0</td>\n",
              "      <td>4.307670</td>\n",
              "      <td>0.4</td>\n",
              "      <td>0</td>\n",
              "      <td>5.834547</td>\n",
              "      <td>0.8</td>\n",
              "      <td>1</td>\n",
              "      <td>0.574335</td>\n",
              "      <td>0.438136</td>\n",
              "      <td>0.594625</td>\n",
              "      <td>0.536566</td>\n",
              "      <td>0.849708</td>\n",
              "      <td>0.582639</td>\n",
              "      <td>0.577375</td>\n",
              "      <td>0.752931</td>\n",
              "      <td>0.451419</td>\n",
              "      <td>0.510756</td>\n",
              "      <td>0.737884</td>\n",
              "      <td>0.676704</td>\n",
              "      <td>0.785777</td>\n",
              "      <td>0.684304</td>\n",
              "      <td>0.577079</td>\n",
              "      <td>0.658175</td>\n",
              "      <td>0.517050</td>\n",
              "      <td>0.639082</td>\n",
              "      <td>0.509898</td>\n",
              "      <td>0.520291</td>\n",
              "      <td>0.725458</td>\n",
              "      <td>0.487635</td>\n",
              "      <td>0.578349</td>\n",
              "      <td>0.528123</td>\n",
              "      <td>0.555361</td>\n",
              "      <td>0.474853</td>\n",
              "      <td>0.326494</td>\n",
              "      <td>0.678454</td>\n",
              "      <td>0.619364</td>\n",
              "      <td>0.453175</td>\n",
              "      <td>0.678154</td>\n",
              "      <td>0.694500</td>\n",
              "      <td>0.525181</td>\n",
              "      <td>0.579213</td>\n",
              "      <td>0.619524</td>\n",
              "      <td>0.519524</td>\n",
              "      <td>0.479714</td>\n",
              "      <td>0.611395</td>\n",
              "      <td>0.482310</td>\n",
              "      <td>0.641673</td>\n",
              "      <td>0.755555</td>\n",
              "      <td>0.818792</td>\n",
              "      <td>0.506326</td>\n",
              "      <td>0.798245</td>\n",
              "      <td>0.617355</td>\n",
              "      <td>0.700126</td>\n",
              "      <td>0.735538</td>\n",
              "      <td>0.720150</td>\n",
              "      <td>0.694678</td>\n",
              "      <td>0.669652</td>\n",
              "      <td>0.627962</td>\n",
              "      <td>0.553523</td>\n",
              "      <td>0.766618</td>\n",
              "      <td>0.655470</td>\n",
              "      <td>0.645042</td>\n",
              "      <td>0.826039</td>\n",
              "      <td>Bom</td>\n",
              "    </tr>\n",
              "    <tr>\n",
              "      <th>5</th>\n",
              "      <td>72</td>\n",
              "      <td>0</td>\n",
              "      <td>N</td>\n",
              "      <td>4.692854</td>\n",
              "      <td>0.3</td>\n",
              "      <td>0</td>\n",
              "      <td>2.987231</td>\n",
              "      <td>0.5</td>\n",
              "      <td>0</td>\n",
              "      <td>4.831320</td>\n",
              "      <td>0.7</td>\n",
              "      <td>0</td>\n",
              "      <td>4.613918</td>\n",
              "      <td>0.5</td>\n",
              "      <td>1</td>\n",
              "      <td>4.348694</td>\n",
              "      <td>0.7</td>\n",
              "      <td>1</td>\n",
              "      <td>0.574341</td>\n",
              "      <td>0.514639</td>\n",
              "      <td>0.514115</td>\n",
              "      <td>0.495976</td>\n",
              "      <td>0.790834</td>\n",
              "      <td>0.674920</td>\n",
              "      <td>0.646031</td>\n",
              "      <td>0.763297</td>\n",
              "      <td>0.549710</td>\n",
              "      <td>0.489649</td>\n",
              "      <td>0.646631</td>\n",
              "      <td>0.608902</td>\n",
              "      <td>0.677307</td>\n",
              "      <td>0.614726</td>\n",
              "      <td>0.488001</td>\n",
              "      <td>0.712907</td>\n",
              "      <td>0.549355</td>\n",
              "      <td>0.664191</td>\n",
              "      <td>0.538321</td>\n",
              "      <td>0.596186</td>\n",
              "      <td>0.756297</td>\n",
              "      <td>0.585698</td>\n",
              "      <td>0.624495</td>\n",
              "      <td>0.582153</td>\n",
              "      <td>0.520175</td>\n",
              "      <td>0.525256</td>\n",
              "      <td>0.373468</td>\n",
              "      <td>0.661293</td>\n",
              "      <td>0.656178</td>\n",
              "      <td>0.414692</td>\n",
              "      <td>0.648699</td>\n",
              "      <td>0.612588</td>\n",
              "      <td>0.611793</td>\n",
              "      <td>0.545152</td>\n",
              "      <td>0.545936</td>\n",
              "      <td>0.449869</td>\n",
              "      <td>0.435871</td>\n",
              "      <td>0.523706</td>\n",
              "      <td>0.440116</td>\n",
              "      <td>0.675587</td>\n",
              "      <td>0.751850</td>\n",
              "      <td>0.813193</td>\n",
              "      <td>0.556613</td>\n",
              "      <td>0.775064</td>\n",
              "      <td>0.700630</td>\n",
              "      <td>0.701459</td>\n",
              "      <td>0.690972</td>\n",
              "      <td>0.739793</td>\n",
              "      <td>0.637027</td>\n",
              "      <td>0.697221</td>\n",
              "      <td>0.638587</td>\n",
              "      <td>0.675289</td>\n",
              "      <td>0.752234</td>\n",
              "      <td>0.679661</td>\n",
              "      <td>0.674438</td>\n",
              "      <td>0.813391</td>\n",
              "      <td>Bom</td>\n",
              "    </tr>\n",
              "    <tr>\n",
              "      <th>6</th>\n",
              "      <td>76</td>\n",
              "      <td>0</td>\n",
              "      <td>N</td>\n",
              "      <td>4.966753</td>\n",
              "      <td>0.3</td>\n",
              "      <td>0</td>\n",
              "      <td>3.048730</td>\n",
              "      <td>0.5</td>\n",
              "      <td>0</td>\n",
              "      <td>4.725294</td>\n",
              "      <td>0.5</td>\n",
              "      <td>1</td>\n",
              "      <td>4.743250</td>\n",
              "      <td>0.3</td>\n",
              "      <td>0</td>\n",
              "      <td>4.486198</td>\n",
              "      <td>0.7</td>\n",
              "      <td>1</td>\n",
              "      <td>0.627522</td>\n",
              "      <td>0.542976</td>\n",
              "      <td>0.485505</td>\n",
              "      <td>0.485903</td>\n",
              "      <td>0.786669</td>\n",
              "      <td>0.670957</td>\n",
              "      <td>0.540510</td>\n",
              "      <td>0.764619</td>\n",
              "      <td>0.529810</td>\n",
              "      <td>0.473329</td>\n",
              "      <td>0.663005</td>\n",
              "      <td>0.608885</td>\n",
              "      <td>0.695995</td>\n",
              "      <td>0.601024</td>\n",
              "      <td>0.477730</td>\n",
              "      <td>0.702990</td>\n",
              "      <td>0.554734</td>\n",
              "      <td>0.667045</td>\n",
              "      <td>0.529989</td>\n",
              "      <td>0.574750</td>\n",
              "      <td>0.733478</td>\n",
              "      <td>0.563220</td>\n",
              "      <td>0.540472</td>\n",
              "      <td>0.565630</td>\n",
              "      <td>0.504446</td>\n",
              "      <td>0.493837</td>\n",
              "      <td>0.343277</td>\n",
              "      <td>0.644033</td>\n",
              "      <td>0.713643</td>\n",
              "      <td>0.449867</td>\n",
              "      <td>0.670262</td>\n",
              "      <td>0.618680</td>\n",
              "      <td>0.596047</td>\n",
              "      <td>0.516514</td>\n",
              "      <td>0.583900</td>\n",
              "      <td>0.494273</td>\n",
              "      <td>0.412867</td>\n",
              "      <td>0.575115</td>\n",
              "      <td>0.481213</td>\n",
              "      <td>0.621911</td>\n",
              "      <td>0.779859</td>\n",
              "      <td>0.786455</td>\n",
              "      <td>0.486580</td>\n",
              "      <td>0.808006</td>\n",
              "      <td>0.641099</td>\n",
              "      <td>0.686376</td>\n",
              "      <td>0.724988</td>\n",
              "      <td>0.718530</td>\n",
              "      <td>0.616852</td>\n",
              "      <td>0.692761</td>\n",
              "      <td>0.646695</td>\n",
              "      <td>0.677245</td>\n",
              "      <td>0.699785</td>\n",
              "      <td>0.648607</td>\n",
              "      <td>0.616075</td>\n",
              "      <td>0.816841</td>\n",
              "      <td>Bom</td>\n",
              "    </tr>\n",
              "  </tbody>\n",
              "</table>\n",
              "</div>"
            ],
            "text/plain": [
              "   feedbacks  reviews  ... value_selftranscendence  reputation\n",
              "2          0       49  ...                0.828716         Bom\n",
              "3          0       56  ...                0.809379         Bom\n",
              "4          0       50  ...                0.826039         Bom\n",
              "5         72        0  ...                0.813391         Bom\n",
              "6         76        0  ...                0.816841         Bom\n",
              "\n",
              "[5 rows x 75 columns]"
            ]
          },
          "metadata": {
            "tags": []
          },
          "execution_count": 304
        }
      ]
    },
    {
      "cell_type": "code",
      "metadata": {
        "id": "pHy6l-jc0Rfa"
      },
      "source": [
        "dataset['blacklist'] = dataset['blacklist'] == 'S'"
      ],
      "execution_count": 305,
      "outputs": []
    },
    {
      "cell_type": "code",
      "metadata": {
        "colab": {
          "base_uri": "https://localhost:8080/",
          "height": 224
        },
        "id": "wIUmcd341BtL",
        "outputId": "cd5dce2f-6268-40e7-9463-f0af876342c9"
      },
      "source": [
        "dataset.head()"
      ],
      "execution_count": 306,
      "outputs": [
        {
          "output_type": "execute_result",
          "data": {
            "text/html": [
              "<div>\n",
              "<style scoped>\n",
              "    .dataframe tbody tr th:only-of-type {\n",
              "        vertical-align: middle;\n",
              "    }\n",
              "\n",
              "    .dataframe tbody tr th {\n",
              "        vertical-align: top;\n",
              "    }\n",
              "\n",
              "    .dataframe thead th {\n",
              "        text-align: right;\n",
              "    }\n",
              "</style>\n",
              "<table border=\"1\" class=\"dataframe\">\n",
              "  <thead>\n",
              "    <tr style=\"text-align: right;\">\n",
              "      <th></th>\n",
              "      <th>feedbacks</th>\n",
              "      <th>reviews</th>\n",
              "      <th>blacklist</th>\n",
              "      <th>mextraversion</th>\n",
              "      <th>cextraversion</th>\n",
              "      <th>sextraversion</th>\n",
              "      <th>mneuroticism</th>\n",
              "      <th>cneuroticism</th>\n",
              "      <th>sneuroticism</th>\n",
              "      <th>mconscientiousness</th>\n",
              "      <th>cconscientiousness</th>\n",
              "      <th>sconscientiousness</th>\n",
              "      <th>magreeableness</th>\n",
              "      <th>cagreeableness</th>\n",
              "      <th>sagreeableness</th>\n",
              "      <th>mopenness</th>\n",
              "      <th>copenness</th>\n",
              "      <th>sopenness</th>\n",
              "      <th>agreeablenessIndico</th>\n",
              "      <th>conscientiousnessIndico</th>\n",
              "      <th>extraversionIndico</th>\n",
              "      <th>opennessIndico</th>\n",
              "      <th>openessWatson</th>\n",
              "      <th>conscientiousnessWatson</th>\n",
              "      <th>extraversionWatson</th>\n",
              "      <th>agreeablenessWatson</th>\n",
              "      <th>neuroticismWatson</th>\n",
              "      <th>o_adventure</th>\n",
              "      <th>o_artistic</th>\n",
              "      <th>o_emotionality</th>\n",
              "      <th>o_imagination</th>\n",
              "      <th>o_intelect</th>\n",
              "      <th>o_liberalism</th>\n",
              "      <th>c_achievement</th>\n",
              "      <th>c_cautiouness</th>\n",
              "      <th>c_dutifulness</th>\n",
              "      <th>c_orderliness</th>\n",
              "      <th>c_discipline</th>\n",
              "      <th>c_efficacy</th>\n",
              "      <th>e_activity</th>\n",
              "      <th>e_assertiveness</th>\n",
              "      <th>e_cheerfulness</th>\n",
              "      <th>e_excitement</th>\n",
              "      <th>e_friend</th>\n",
              "      <th>e_gregariouness</th>\n",
              "      <th>a_altruism</th>\n",
              "      <th>a_cooperation</th>\n",
              "      <th>a_modesty</th>\n",
              "      <th>a_morality</th>\n",
              "      <th>a_simpathy</th>\n",
              "      <th>a_trust</th>\n",
              "      <th>n_anger</th>\n",
              "      <th>n_anxiety</th>\n",
              "      <th>n_depression</th>\n",
              "      <th>n_immoderation</th>\n",
              "      <th>n_selfconsciouness</th>\n",
              "      <th>n_vulnerability</th>\n",
              "      <th>need_chalenge</th>\n",
              "      <th>need_closeness</th>\n",
              "      <th>need_curiosity</th>\n",
              "      <th>need_excitement</th>\n",
              "      <th>need_harmony</th>\n",
              "      <th>need_ideal</th>\n",
              "      <th>need_liberty</th>\n",
              "      <th>need_love</th>\n",
              "      <th>need_practicaly</th>\n",
              "      <th>need_selfexpression</th>\n",
              "      <th>need_stability</th>\n",
              "      <th>need_structure</th>\n",
              "      <th>value_conservation</th>\n",
              "      <th>value_openess</th>\n",
              "      <th>value_hedonism</th>\n",
              "      <th>value_selfenhancement</th>\n",
              "      <th>value_selftranscendence</th>\n",
              "      <th>reputation</th>\n",
              "    </tr>\n",
              "  </thead>\n",
              "  <tbody>\n",
              "    <tr>\n",
              "      <th>2</th>\n",
              "      <td>0</td>\n",
              "      <td>49</td>\n",
              "      <td>False</td>\n",
              "      <td>4.181642</td>\n",
              "      <td>0.6</td>\n",
              "      <td>1</td>\n",
              "      <td>2.777591</td>\n",
              "      <td>0.6</td>\n",
              "      <td>0</td>\n",
              "      <td>4.085460</td>\n",
              "      <td>0.5</td>\n",
              "      <td>0</td>\n",
              "      <td>4.110703</td>\n",
              "      <td>0.4</td>\n",
              "      <td>0</td>\n",
              "      <td>5.645506</td>\n",
              "      <td>0.6</td>\n",
              "      <td>1</td>\n",
              "      <td>0.684026</td>\n",
              "      <td>0.410566</td>\n",
              "      <td>0.646393</td>\n",
              "      <td>0.541885</td>\n",
              "      <td>0.835889</td>\n",
              "      <td>0.607272</td>\n",
              "      <td>0.589781</td>\n",
              "      <td>0.797063</td>\n",
              "      <td>0.449051</td>\n",
              "      <td>0.479940</td>\n",
              "      <td>0.753559</td>\n",
              "      <td>0.744320</td>\n",
              "      <td>0.758126</td>\n",
              "      <td>0.684179</td>\n",
              "      <td>0.526194</td>\n",
              "      <td>0.683279</td>\n",
              "      <td>0.559430</td>\n",
              "      <td>0.667665</td>\n",
              "      <td>0.522323</td>\n",
              "      <td>0.570964</td>\n",
              "      <td>0.746656</td>\n",
              "      <td>0.496348</td>\n",
              "      <td>0.649539</td>\n",
              "      <td>0.577345</td>\n",
              "      <td>0.553578</td>\n",
              "      <td>0.541931</td>\n",
              "      <td>0.350008</td>\n",
              "      <td>0.750762</td>\n",
              "      <td>0.626144</td>\n",
              "      <td>0.476133</td>\n",
              "      <td>0.701773</td>\n",
              "      <td>0.764204</td>\n",
              "      <td>0.512819</td>\n",
              "      <td>0.569980</td>\n",
              "      <td>0.611817</td>\n",
              "      <td>0.446330</td>\n",
              "      <td>0.468466</td>\n",
              "      <td>0.542865</td>\n",
              "      <td>0.442188</td>\n",
              "      <td>0.587795</td>\n",
              "      <td>0.833622</td>\n",
              "      <td>0.810144</td>\n",
              "      <td>0.462635</td>\n",
              "      <td>0.852183</td>\n",
              "      <td>0.628620</td>\n",
              "      <td>0.681354</td>\n",
              "      <td>0.820817</td>\n",
              "      <td>0.696359</td>\n",
              "      <td>0.698786</td>\n",
              "      <td>0.756963</td>\n",
              "      <td>0.660119</td>\n",
              "      <td>0.619416</td>\n",
              "      <td>0.746372</td>\n",
              "      <td>0.640073</td>\n",
              "      <td>0.598037</td>\n",
              "      <td>0.828716</td>\n",
              "      <td>Bom</td>\n",
              "    </tr>\n",
              "    <tr>\n",
              "      <th>3</th>\n",
              "      <td>0</td>\n",
              "      <td>56</td>\n",
              "      <td>False</td>\n",
              "      <td>4.007042</td>\n",
              "      <td>0.6</td>\n",
              "      <td>0</td>\n",
              "      <td>2.698650</td>\n",
              "      <td>0.6</td>\n",
              "      <td>0</td>\n",
              "      <td>4.187338</td>\n",
              "      <td>0.5</td>\n",
              "      <td>0</td>\n",
              "      <td>3.806675</td>\n",
              "      <td>0.4</td>\n",
              "      <td>0</td>\n",
              "      <td>6.190563</td>\n",
              "      <td>0.6</td>\n",
              "      <td>1</td>\n",
              "      <td>0.464647</td>\n",
              "      <td>0.431002</td>\n",
              "      <td>0.569719</td>\n",
              "      <td>0.588085</td>\n",
              "      <td>0.830316</td>\n",
              "      <td>0.572403</td>\n",
              "      <td>0.564882</td>\n",
              "      <td>0.722874</td>\n",
              "      <td>0.461567</td>\n",
              "      <td>0.478643</td>\n",
              "      <td>0.710639</td>\n",
              "      <td>0.701289</td>\n",
              "      <td>0.782399</td>\n",
              "      <td>0.716377</td>\n",
              "      <td>0.547235</td>\n",
              "      <td>0.657048</td>\n",
              "      <td>0.510715</td>\n",
              "      <td>0.654974</td>\n",
              "      <td>0.505224</td>\n",
              "      <td>0.543689</td>\n",
              "      <td>0.754035</td>\n",
              "      <td>0.463572</td>\n",
              "      <td>0.667516</td>\n",
              "      <td>0.547494</td>\n",
              "      <td>0.580140</td>\n",
              "      <td>0.514974</td>\n",
              "      <td>0.327534</td>\n",
              "      <td>0.724414</td>\n",
              "      <td>0.556060</td>\n",
              "      <td>0.424484</td>\n",
              "      <td>0.610452</td>\n",
              "      <td>0.757238</td>\n",
              "      <td>0.514746</td>\n",
              "      <td>0.595900</td>\n",
              "      <td>0.623953</td>\n",
              "      <td>0.500948</td>\n",
              "      <td>0.467786</td>\n",
              "      <td>0.569568</td>\n",
              "      <td>0.408936</td>\n",
              "      <td>0.596168</td>\n",
              "      <td>0.766870</td>\n",
              "      <td>0.790915</td>\n",
              "      <td>0.473358</td>\n",
              "      <td>0.800680</td>\n",
              "      <td>0.628022</td>\n",
              "      <td>0.667925</td>\n",
              "      <td>0.785016</td>\n",
              "      <td>0.715300</td>\n",
              "      <td>0.664572</td>\n",
              "      <td>0.728806</td>\n",
              "      <td>0.660740</td>\n",
              "      <td>0.588969</td>\n",
              "      <td>0.735915</td>\n",
              "      <td>0.644465</td>\n",
              "      <td>0.603042</td>\n",
              "      <td>0.809379</td>\n",
              "      <td>Bom</td>\n",
              "    </tr>\n",
              "    <tr>\n",
              "      <th>4</th>\n",
              "      <td>0</td>\n",
              "      <td>50</td>\n",
              "      <td>False</td>\n",
              "      <td>4.538230</td>\n",
              "      <td>0.7</td>\n",
              "      <td>1</td>\n",
              "      <td>2.298492</td>\n",
              "      <td>0.5</td>\n",
              "      <td>1</td>\n",
              "      <td>5.085833</td>\n",
              "      <td>0.5</td>\n",
              "      <td>0</td>\n",
              "      <td>4.307670</td>\n",
              "      <td>0.4</td>\n",
              "      <td>0</td>\n",
              "      <td>5.834547</td>\n",
              "      <td>0.8</td>\n",
              "      <td>1</td>\n",
              "      <td>0.574335</td>\n",
              "      <td>0.438136</td>\n",
              "      <td>0.594625</td>\n",
              "      <td>0.536566</td>\n",
              "      <td>0.849708</td>\n",
              "      <td>0.582639</td>\n",
              "      <td>0.577375</td>\n",
              "      <td>0.752931</td>\n",
              "      <td>0.451419</td>\n",
              "      <td>0.510756</td>\n",
              "      <td>0.737884</td>\n",
              "      <td>0.676704</td>\n",
              "      <td>0.785777</td>\n",
              "      <td>0.684304</td>\n",
              "      <td>0.577079</td>\n",
              "      <td>0.658175</td>\n",
              "      <td>0.517050</td>\n",
              "      <td>0.639082</td>\n",
              "      <td>0.509898</td>\n",
              "      <td>0.520291</td>\n",
              "      <td>0.725458</td>\n",
              "      <td>0.487635</td>\n",
              "      <td>0.578349</td>\n",
              "      <td>0.528123</td>\n",
              "      <td>0.555361</td>\n",
              "      <td>0.474853</td>\n",
              "      <td>0.326494</td>\n",
              "      <td>0.678454</td>\n",
              "      <td>0.619364</td>\n",
              "      <td>0.453175</td>\n",
              "      <td>0.678154</td>\n",
              "      <td>0.694500</td>\n",
              "      <td>0.525181</td>\n",
              "      <td>0.579213</td>\n",
              "      <td>0.619524</td>\n",
              "      <td>0.519524</td>\n",
              "      <td>0.479714</td>\n",
              "      <td>0.611395</td>\n",
              "      <td>0.482310</td>\n",
              "      <td>0.641673</td>\n",
              "      <td>0.755555</td>\n",
              "      <td>0.818792</td>\n",
              "      <td>0.506326</td>\n",
              "      <td>0.798245</td>\n",
              "      <td>0.617355</td>\n",
              "      <td>0.700126</td>\n",
              "      <td>0.735538</td>\n",
              "      <td>0.720150</td>\n",
              "      <td>0.694678</td>\n",
              "      <td>0.669652</td>\n",
              "      <td>0.627962</td>\n",
              "      <td>0.553523</td>\n",
              "      <td>0.766618</td>\n",
              "      <td>0.655470</td>\n",
              "      <td>0.645042</td>\n",
              "      <td>0.826039</td>\n",
              "      <td>Bom</td>\n",
              "    </tr>\n",
              "    <tr>\n",
              "      <th>5</th>\n",
              "      <td>72</td>\n",
              "      <td>0</td>\n",
              "      <td>False</td>\n",
              "      <td>4.692854</td>\n",
              "      <td>0.3</td>\n",
              "      <td>0</td>\n",
              "      <td>2.987231</td>\n",
              "      <td>0.5</td>\n",
              "      <td>0</td>\n",
              "      <td>4.831320</td>\n",
              "      <td>0.7</td>\n",
              "      <td>0</td>\n",
              "      <td>4.613918</td>\n",
              "      <td>0.5</td>\n",
              "      <td>1</td>\n",
              "      <td>4.348694</td>\n",
              "      <td>0.7</td>\n",
              "      <td>1</td>\n",
              "      <td>0.574341</td>\n",
              "      <td>0.514639</td>\n",
              "      <td>0.514115</td>\n",
              "      <td>0.495976</td>\n",
              "      <td>0.790834</td>\n",
              "      <td>0.674920</td>\n",
              "      <td>0.646031</td>\n",
              "      <td>0.763297</td>\n",
              "      <td>0.549710</td>\n",
              "      <td>0.489649</td>\n",
              "      <td>0.646631</td>\n",
              "      <td>0.608902</td>\n",
              "      <td>0.677307</td>\n",
              "      <td>0.614726</td>\n",
              "      <td>0.488001</td>\n",
              "      <td>0.712907</td>\n",
              "      <td>0.549355</td>\n",
              "      <td>0.664191</td>\n",
              "      <td>0.538321</td>\n",
              "      <td>0.596186</td>\n",
              "      <td>0.756297</td>\n",
              "      <td>0.585698</td>\n",
              "      <td>0.624495</td>\n",
              "      <td>0.582153</td>\n",
              "      <td>0.520175</td>\n",
              "      <td>0.525256</td>\n",
              "      <td>0.373468</td>\n",
              "      <td>0.661293</td>\n",
              "      <td>0.656178</td>\n",
              "      <td>0.414692</td>\n",
              "      <td>0.648699</td>\n",
              "      <td>0.612588</td>\n",
              "      <td>0.611793</td>\n",
              "      <td>0.545152</td>\n",
              "      <td>0.545936</td>\n",
              "      <td>0.449869</td>\n",
              "      <td>0.435871</td>\n",
              "      <td>0.523706</td>\n",
              "      <td>0.440116</td>\n",
              "      <td>0.675587</td>\n",
              "      <td>0.751850</td>\n",
              "      <td>0.813193</td>\n",
              "      <td>0.556613</td>\n",
              "      <td>0.775064</td>\n",
              "      <td>0.700630</td>\n",
              "      <td>0.701459</td>\n",
              "      <td>0.690972</td>\n",
              "      <td>0.739793</td>\n",
              "      <td>0.637027</td>\n",
              "      <td>0.697221</td>\n",
              "      <td>0.638587</td>\n",
              "      <td>0.675289</td>\n",
              "      <td>0.752234</td>\n",
              "      <td>0.679661</td>\n",
              "      <td>0.674438</td>\n",
              "      <td>0.813391</td>\n",
              "      <td>Bom</td>\n",
              "    </tr>\n",
              "    <tr>\n",
              "      <th>6</th>\n",
              "      <td>76</td>\n",
              "      <td>0</td>\n",
              "      <td>False</td>\n",
              "      <td>4.966753</td>\n",
              "      <td>0.3</td>\n",
              "      <td>0</td>\n",
              "      <td>3.048730</td>\n",
              "      <td>0.5</td>\n",
              "      <td>0</td>\n",
              "      <td>4.725294</td>\n",
              "      <td>0.5</td>\n",
              "      <td>1</td>\n",
              "      <td>4.743250</td>\n",
              "      <td>0.3</td>\n",
              "      <td>0</td>\n",
              "      <td>4.486198</td>\n",
              "      <td>0.7</td>\n",
              "      <td>1</td>\n",
              "      <td>0.627522</td>\n",
              "      <td>0.542976</td>\n",
              "      <td>0.485505</td>\n",
              "      <td>0.485903</td>\n",
              "      <td>0.786669</td>\n",
              "      <td>0.670957</td>\n",
              "      <td>0.540510</td>\n",
              "      <td>0.764619</td>\n",
              "      <td>0.529810</td>\n",
              "      <td>0.473329</td>\n",
              "      <td>0.663005</td>\n",
              "      <td>0.608885</td>\n",
              "      <td>0.695995</td>\n",
              "      <td>0.601024</td>\n",
              "      <td>0.477730</td>\n",
              "      <td>0.702990</td>\n",
              "      <td>0.554734</td>\n",
              "      <td>0.667045</td>\n",
              "      <td>0.529989</td>\n",
              "      <td>0.574750</td>\n",
              "      <td>0.733478</td>\n",
              "      <td>0.563220</td>\n",
              "      <td>0.540472</td>\n",
              "      <td>0.565630</td>\n",
              "      <td>0.504446</td>\n",
              "      <td>0.493837</td>\n",
              "      <td>0.343277</td>\n",
              "      <td>0.644033</td>\n",
              "      <td>0.713643</td>\n",
              "      <td>0.449867</td>\n",
              "      <td>0.670262</td>\n",
              "      <td>0.618680</td>\n",
              "      <td>0.596047</td>\n",
              "      <td>0.516514</td>\n",
              "      <td>0.583900</td>\n",
              "      <td>0.494273</td>\n",
              "      <td>0.412867</td>\n",
              "      <td>0.575115</td>\n",
              "      <td>0.481213</td>\n",
              "      <td>0.621911</td>\n",
              "      <td>0.779859</td>\n",
              "      <td>0.786455</td>\n",
              "      <td>0.486580</td>\n",
              "      <td>0.808006</td>\n",
              "      <td>0.641099</td>\n",
              "      <td>0.686376</td>\n",
              "      <td>0.724988</td>\n",
              "      <td>0.718530</td>\n",
              "      <td>0.616852</td>\n",
              "      <td>0.692761</td>\n",
              "      <td>0.646695</td>\n",
              "      <td>0.677245</td>\n",
              "      <td>0.699785</td>\n",
              "      <td>0.648607</td>\n",
              "      <td>0.616075</td>\n",
              "      <td>0.816841</td>\n",
              "      <td>Bom</td>\n",
              "    </tr>\n",
              "  </tbody>\n",
              "</table>\n",
              "</div>"
            ],
            "text/plain": [
              "   feedbacks  reviews  ...  value_selftranscendence  reputation\n",
              "2          0       49  ...                 0.828716         Bom\n",
              "3          0       56  ...                 0.809379         Bom\n",
              "4          0       50  ...                 0.826039         Bom\n",
              "5         72        0  ...                 0.813391         Bom\n",
              "6         76        0  ...                 0.816841         Bom\n",
              "\n",
              "[5 rows x 75 columns]"
            ]
          },
          "metadata": {
            "tags": []
          },
          "execution_count": 306
        }
      ]
    },
    {
      "cell_type": "code",
      "metadata": {
        "id": "mNkSf4sY1FzA"
      },
      "source": [
        "import seaborn as sns"
      ],
      "execution_count": 307,
      "outputs": []
    },
    {
      "cell_type": "code",
      "metadata": {
        "colab": {
          "base_uri": "https://localhost:8080/",
          "height": 350
        },
        "id": "JIqMX-9W1Ir-",
        "outputId": "e7a4272a-6e99-4574-ac40-94d13f8b2395"
      },
      "source": [
        "sns.countplot(dataset['reputation'])"
      ],
      "execution_count": 308,
      "outputs": [
        {
          "output_type": "stream",
          "text": [
            "/usr/local/lib/python3.7/dist-packages/seaborn/_decorators.py:43: FutureWarning: Pass the following variable as a keyword arg: x. From version 0.12, the only valid positional argument will be `data`, and passing other arguments without an explicit keyword will result in an error or misinterpretation.\n",
            "  FutureWarning\n"
          ],
          "name": "stderr"
        },
        {
          "output_type": "execute_result",
          "data": {
            "text/plain": [
              "<matplotlib.axes._subplots.AxesSubplot at 0x7f43240a2c50>"
            ]
          },
          "metadata": {
            "tags": []
          },
          "execution_count": 308
        },
        {
          "output_type": "display_data",
          "data": {
            "image/png": "[encoded data removed]",
            "text/plain": [
              "<Figure size 432x288 with 1 Axes>"
            ]
          },
          "metadata": {
            "tags": [],
            "needs_background": "light"
          }
        }
      ]
    },
    {
      "cell_type": "code",
      "metadata": {
        "colab": {
          "base_uri": "https://localhost:8080/"
        },
        "id": "GeDwyoPc1Qzd",
        "outputId": "03a896cd-7065-4df1-b057-42ed4b097164"
      },
      "source": [
        "X = dataset.iloc[:, 0:74].values\n",
        "X.shape"
      ],
      "execution_count": 309,
      "outputs": [
        {
          "output_type": "execute_result",
          "data": {
            "text/plain": [
              "(5806, 74)"
            ]
          },
          "metadata": {
            "tags": []
          },
          "execution_count": 309
        }
      ]
    },
    {
      "cell_type": "code",
      "metadata": {
        "colab": {
          "base_uri": "https://localhost:8080/"
        },
        "id": "5dpf5LFp1fTC",
        "outputId": "bc35b30d-4cc3-4e5b-b7a1-abf83bec4080"
      },
      "source": [
        "y = dataset.iloc[:, 74].values\n",
        "y.shape"
      ],
      "execution_count": 310,
      "outputs": [
        {
          "output_type": "execute_result",
          "data": {
            "text/plain": [
              "(5806,)"
            ]
          },
          "metadata": {
            "tags": []
          },
          "execution_count": 310
        }
      ]
    },
    {
      "cell_type": "code",
      "metadata": {
        "colab": {
          "base_uri": "https://localhost:8080/"
        },
        "id": "mS-v5KpO1wqG",
        "outputId": "df91bcf2-29d7-4332-adcd-3350540fd01b"
      },
      "source": [
        "np.unique(y, return_counts=True)"
      ],
      "execution_count": 311,
      "outputs": [
        {
          "output_type": "execute_result",
          "data": {
            "text/plain": [
              "(array(['Bom', 'Ruim'], dtype=object), array([4299, 1507]))"
            ]
          },
          "metadata": {
            "tags": []
          },
          "execution_count": 311
        }
      ]
    },
    {
      "cell_type": "markdown",
      "metadata": {
        "id": "UcZ4fS_B2DVI"
      },
      "source": [
        "# Dividindo os dados em conjunto de treino e testes"
      ]
    },
    {
      "cell_type": "code",
      "metadata": {
        "id": "WqzTcQB-2S7Q"
      },
      "source": [
        "from sklearn.model_selection import train_test_split"
      ],
      "execution_count": 312,
      "outputs": []
    },
    {
      "cell_type": "code",
      "metadata": {
        "id": "UJ-gQquH2Ywi"
      },
      "source": [
        "X_train, X_test, y_train, y_test = train_test_split(\n",
        "    X, \n",
        "    y, \n",
        "    test_size=0.2, \n",
        "    stratify=y,\n",
        "    random_state=4)"
      ],
      "execution_count": 343,
      "outputs": []
    },
    {
      "cell_type": "code",
      "metadata": {
        "colab": {
          "base_uri": "https://localhost:8080/"
        },
        "id": "XXrw02EO2kr8",
        "outputId": "0efb6bf5-ffda-4ae6-e862-c7c8aa46b53c"
      },
      "source": [
        "X_train.shape, y_train.shape"
      ],
      "execution_count": 314,
      "outputs": [
        {
          "output_type": "execute_result",
          "data": {
            "text/plain": [
              "((4644, 74), (4644,))"
            ]
          },
          "metadata": {
            "tags": []
          },
          "execution_count": 314
        }
      ]
    },
    {
      "cell_type": "code",
      "metadata": {
        "colab": {
          "base_uri": "https://localhost:8080/"
        },
        "id": "eF_mGjMZ2qqH",
        "outputId": "83c435cc-3bc2-4d12-ff83-ae98fb9312fc"
      },
      "source": [
        "X_test.shape, y_test.shape"
      ],
      "execution_count": 315,
      "outputs": [
        {
          "output_type": "execute_result",
          "data": {
            "text/plain": [
              "((1162, 74), (1162,))"
            ]
          },
          "metadata": {
            "tags": []
          },
          "execution_count": 315
        }
      ]
    },
    {
      "cell_type": "markdown",
      "metadata": {
        "id": "hzZmj4tL2vID"
      },
      "source": [
        "# Classificação com RandomForest"
      ]
    },
    {
      "cell_type": "code",
      "metadata": {
        "id": "EsP58PBq2zFv"
      },
      "source": [
        "from sklearn.ensemble import RandomForestClassifier"
      ],
      "execution_count": 316,
      "outputs": []
    },
    {
      "cell_type": "code",
      "metadata": {
        "colab": {
          "base_uri": "https://localhost:8080/"
        },
        "id": "H4S23hk74Bt9",
        "outputId": "6870dddf-982c-4ce0-d627-a7456d82018a"
      },
      "source": [
        "model = RandomForestClassifier()\n",
        "model.fit(X_train, y_train)"
      ],
      "execution_count": 344,
      "outputs": [
        {
          "output_type": "execute_result",
          "data": {
            "text/plain": [
              "RandomForestClassifier(bootstrap=True, ccp_alpha=0.0, class_weight=None,\n",
              "                       criterion='gini', max_depth=None, max_features='auto',\n",
              "                       max_leaf_nodes=None, max_samples=None,\n",
              "                       min_impurity_decrease=0.0, min_impurity_split=None,\n",
              "                       min_samples_leaf=1, min_samples_split=2,\n",
              "                       min_weight_fraction_leaf=0.0, n_estimators=100,\n",
              "                       n_jobs=None, oob_score=False, random_state=None,\n",
              "                       verbose=0, warm_start=False)"
            ]
          },
          "metadata": {
            "tags": []
          },
          "execution_count": 344
        }
      ]
    },
    {
      "cell_type": "code",
      "metadata": {
        "id": "AjXH72kP4JA6"
      },
      "source": [
        "predict = model.predict(X_test)"
      ],
      "execution_count": 345,
      "outputs": []
    },
    {
      "cell_type": "code",
      "metadata": {
        "id": "-tEsT6rq4OuV"
      },
      "source": [
        "from sklearn.metrics import accuracy_score"
      ],
      "execution_count": 346,
      "outputs": []
    },
    {
      "cell_type": "code",
      "metadata": {
        "colab": {
          "base_uri": "https://localhost:8080/"
        },
        "id": "YhMvGnWO4UIm",
        "outputId": "a6f9fca0-ecf5-4f8e-fca4-0039751d211a"
      },
      "source": [
        "accuracy_score(predict, y_test)"
      ],
      "execution_count": 347,
      "outputs": [
        {
          "output_type": "execute_result",
          "data": {
            "text/plain": [
              "0.7444061962134251"
            ]
          },
          "metadata": {
            "tags": []
          },
          "execution_count": 347
        }
      ]
    },
    {
      "cell_type": "markdown",
      "metadata": {
        "id": "UqYE4tBJ41YA"
      },
      "source": [
        "# Verificação com subamostragem usando Tomek links"
      ]
    },
    {
      "cell_type": "code",
      "metadata": {
        "id": "8rudYxlE48Q5"
      },
      "source": [
        "from imblearn.under_sampling import TomekLinks"
      ],
      "execution_count": 321,
      "outputs": []
    },
    {
      "cell_type": "code",
      "metadata": {
        "colab": {
          "base_uri": "https://localhost:8080/"
        },
        "id": "9d44q7065Aj9",
        "outputId": "9ab4a64a-bbca-43c2-afa0-60f39a11ec34"
      },
      "source": [
        "tl = TomekLinks(return_indices=True, ratio='majority')\n",
        "X_under, y_under, id_under = tl.fit_sample(X, y)"
      ],
      "execution_count": 322,
      "outputs": [
        {
          "output_type": "stream",
          "text": [
            "/usr/local/lib/python3.7/dist-packages/sklearn/utils/deprecation.py:87: FutureWarning: Function safe_indexing is deprecated; safe_indexing is deprecated in version 0.22 and will be removed in version 0.24.\n",
            "  warnings.warn(msg, category=FutureWarning)\n"
          ],
          "name": "stderr"
        }
      ]
    },
    {
      "cell_type": "code",
      "metadata": {
        "colab": {
          "base_uri": "https://localhost:8080/"
        },
        "id": "oHA_1_GG5PNB",
        "outputId": "3739912a-cc35-402b-e9a9-2383b4348e98"
      },
      "source": [
        "X_under.shape, y_under.shape, id_under"
      ],
      "execution_count": 323,
      "outputs": [
        {
          "output_type": "execute_result",
          "data": {
            "text/plain": [
              "((5417, 74), (5417,), array([   0,    1,    2, ..., 5803, 5804, 5805]))"
            ]
          },
          "metadata": {
            "tags": []
          },
          "execution_count": 323
        }
      ]
    },
    {
      "cell_type": "code",
      "metadata": {
        "colab": {
          "base_uri": "https://localhost:8080/"
        },
        "id": "OknzElC77AoD",
        "outputId": "cdc2e5a4-baa6-4fe9-e12f-0b0cd5d809d7"
      },
      "source": [
        "np.unique(y, return_counts=True)"
      ],
      "execution_count": 324,
      "outputs": [
        {
          "output_type": "execute_result",
          "data": {
            "text/plain": [
              "(array(['Bom', 'Ruim'], dtype=object), array([4299, 1507]))"
            ]
          },
          "metadata": {
            "tags": []
          },
          "execution_count": 324
        }
      ]
    },
    {
      "cell_type": "code",
      "metadata": {
        "colab": {
          "base_uri": "https://localhost:8080/"
        },
        "id": "xDTPDpaH5VS5",
        "outputId": "30c9df4f-90c7-46f4-e93b-1a85229c88f3"
      },
      "source": [
        "np.unique(y_under, return_counts=True)"
      ],
      "execution_count": 325,
      "outputs": [
        {
          "output_type": "execute_result",
          "data": {
            "text/plain": [
              "(array(['Bom', 'Ruim'], dtype=object), array([3910, 1507]))"
            ]
          },
          "metadata": {
            "tags": []
          },
          "execution_count": 325
        }
      ]
    },
    {
      "cell_type": "code",
      "metadata": {
        "colab": {
          "base_uri": "https://localhost:8080/"
        },
        "id": "l6d6uCqy5lIa",
        "outputId": "962a3e30-a4ae-49ce-b4c6-7ce76a25a7a1"
      },
      "source": [
        "X_train_u, X_test_u, y_train_u, y_test_u = train_test_split(\n",
        "    X_under, \n",
        "    y_under, \n",
        "    test_size=0.2, \n",
        "    stratify=y_under,\n",
        "    random_state=4)\n",
        "X_train_u.shape, X_test_u.shape"
      ],
      "execution_count": 348,
      "outputs": [
        {
          "output_type": "execute_result",
          "data": {
            "text/plain": [
              "((4333, 74), (1084, 74))"
            ]
          },
          "metadata": {
            "tags": []
          },
          "execution_count": 348
        }
      ]
    },
    {
      "cell_type": "code",
      "metadata": {
        "colab": {
          "base_uri": "https://localhost:8080/"
        },
        "id": "MMg9hOPa6Df7",
        "outputId": "068951e1-a40f-4e23-d0cc-8f6e1f8d7426"
      },
      "source": [
        "model_u = RandomForestClassifier()\n",
        "model_u.fit(X_train_u, y_train_u)"
      ],
      "execution_count": 349,
      "outputs": [
        {
          "output_type": "execute_result",
          "data": {
            "text/plain": [
              "RandomForestClassifier(bootstrap=True, ccp_alpha=0.0, class_weight=None,\n",
              "                       criterion='gini', max_depth=None, max_features='auto',\n",
              "                       max_leaf_nodes=None, max_samples=None,\n",
              "                       min_impurity_decrease=0.0, min_impurity_split=None,\n",
              "                       min_samples_leaf=1, min_samples_split=2,\n",
              "                       min_weight_fraction_leaf=0.0, n_estimators=100,\n",
              "                       n_jobs=None, oob_score=False, random_state=None,\n",
              "                       verbose=0, warm_start=False)"
            ]
          },
          "metadata": {
            "tags": []
          },
          "execution_count": 349
        }
      ]
    },
    {
      "cell_type": "code",
      "metadata": {
        "id": "FdTSb4Nv6MXf"
      },
      "source": [
        "predict_u = model_u.predict(X_test_u)"
      ],
      "execution_count": 350,
      "outputs": []
    },
    {
      "cell_type": "code",
      "metadata": {
        "colab": {
          "base_uri": "https://localhost:8080/"
        },
        "id": "idYUA6yN6cDR",
        "outputId": "a2c9cb45-9352-453b-90db-8782cc48ea17"
      },
      "source": [
        "accuracy_score(predict_u, y_test_u)"
      ],
      "execution_count": 351,
      "outputs": [
        {
          "output_type": "execute_result",
          "data": {
            "text/plain": [
              "0.7287822878228782"
            ]
          },
          "metadata": {
            "tags": []
          },
          "execution_count": 351
        }
      ]
    },
    {
      "cell_type": "markdown",
      "metadata": {
        "id": "T_baWMIQ6jZf"
      },
      "source": [
        "# Verificação com sobreamostragem usando SMOTE"
      ]
    },
    {
      "cell_type": "code",
      "metadata": {
        "id": "4MA3OYUB6og-"
      },
      "source": [
        "from imblearn.over_sampling import SMOTE"
      ],
      "execution_count": 330,
      "outputs": []
    },
    {
      "cell_type": "code",
      "metadata": {
        "colab": {
          "base_uri": "https://localhost:8080/"
        },
        "id": "sguTNKbq6sZH",
        "outputId": "c2e4cb92-99af-4189-8569-f0c0d554e291"
      },
      "source": [
        "smote = SMOTE(ratio='minority')\n",
        "X_over, y_over = smote.fit_sample(X, y)"
      ],
      "execution_count": 331,
      "outputs": [
        {
          "output_type": "stream",
          "text": [
            "/usr/local/lib/python3.7/dist-packages/sklearn/utils/deprecation.py:87: FutureWarning: Function safe_indexing is deprecated; safe_indexing is deprecated in version 0.22 and will be removed in version 0.24.\n",
            "  warnings.warn(msg, category=FutureWarning)\n"
          ],
          "name": "stderr"
        }
      ]
    },
    {
      "cell_type": "code",
      "metadata": {
        "colab": {
          "base_uri": "https://localhost:8080/"
        },
        "id": "FkH1KySX63Q6",
        "outputId": "7413cb84-b21a-4bab-be72-e23da7920f8f"
      },
      "source": [
        "X_over.shape, y_over.shape"
      ],
      "execution_count": 332,
      "outputs": [
        {
          "output_type": "execute_result",
          "data": {
            "text/plain": [
              "((8598, 74), (8598,))"
            ]
          },
          "metadata": {
            "tags": []
          },
          "execution_count": 332
        }
      ]
    },
    {
      "cell_type": "code",
      "metadata": {
        "colab": {
          "base_uri": "https://localhost:8080/"
        },
        "id": "dnBgMFAg7FmO",
        "outputId": "743d555a-e357-4a1b-ae4f-0d9e8f1e773d"
      },
      "source": [
        "np.unique(y, return_counts=True)"
      ],
      "execution_count": 333,
      "outputs": [
        {
          "output_type": "execute_result",
          "data": {
            "text/plain": [
              "(array(['Bom', 'Ruim'], dtype=object), array([4299, 1507]))"
            ]
          },
          "metadata": {
            "tags": []
          },
          "execution_count": 333
        }
      ]
    },
    {
      "cell_type": "code",
      "metadata": {
        "colab": {
          "base_uri": "https://localhost:8080/"
        },
        "id": "S0cuVMMj7KwW",
        "outputId": "9500f4ed-f134-4ac8-d79a-1204280a26ba"
      },
      "source": [
        "np.unique(y_over, return_counts=True)"
      ],
      "execution_count": 334,
      "outputs": [
        {
          "output_type": "execute_result",
          "data": {
            "text/plain": [
              "(array(['Bom', 'Ruim'], dtype=object), array([4299, 4299]))"
            ]
          },
          "metadata": {
            "tags": []
          },
          "execution_count": 334
        }
      ]
    },
    {
      "cell_type": "code",
      "metadata": {
        "id": "-EHIZWnQ7T6T"
      },
      "source": [
        "X_train_o, X_test_o, y_train_o, y_test_o = train_test_split(\n",
        "    X_over, \n",
        "    y_over, \n",
        "    test_size=0.2, \n",
        "    stratify=y_over,\n",
        "    random_state=4)"
      ],
      "execution_count": 352,
      "outputs": []
    },
    {
      "cell_type": "code",
      "metadata": {
        "colab": {
          "base_uri": "https://localhost:8080/"
        },
        "id": "xAK8xIBK7oc0",
        "outputId": "7a915cd6-3c88-4d49-bded-6e6ddd07c3c9"
      },
      "source": [
        "X_train_o.shape, X_test_o.shape"
      ],
      "execution_count": 336,
      "outputs": [
        {
          "output_type": "execute_result",
          "data": {
            "text/plain": [
              "((6878, 74), (1720, 74))"
            ]
          },
          "metadata": {
            "tags": []
          },
          "execution_count": 336
        }
      ]
    },
    {
      "cell_type": "code",
      "metadata": {
        "colab": {
          "base_uri": "https://localhost:8080/"
        },
        "id": "GU69pOU17w1c",
        "outputId": "c3f55174-b725-47fd-fd94-ce4eb3fb9d21"
      },
      "source": [
        "model_o = RandomForestClassifier()\n",
        "model_o.fit(X_train_o, y_train_o)"
      ],
      "execution_count": 353,
      "outputs": [
        {
          "output_type": "execute_result",
          "data": {
            "text/plain": [
              "RandomForestClassifier(bootstrap=True, ccp_alpha=0.0, class_weight=None,\n",
              "                       criterion='gini', max_depth=None, max_features='auto',\n",
              "                       max_leaf_nodes=None, max_samples=None,\n",
              "                       min_impurity_decrease=0.0, min_impurity_split=None,\n",
              "                       min_samples_leaf=1, min_samples_split=2,\n",
              "                       min_weight_fraction_leaf=0.0, n_estimators=100,\n",
              "                       n_jobs=None, oob_score=False, random_state=None,\n",
              "                       verbose=0, warm_start=False)"
            ]
          },
          "metadata": {
            "tags": []
          },
          "execution_count": 353
        }
      ]
    },
    {
      "cell_type": "code",
      "metadata": {
        "id": "ipSmo6pB748M"
      },
      "source": [
        "predict_o = model_o.predict(X_test_o)"
      ],
      "execution_count": 354,
      "outputs": []
    },
    {
      "cell_type": "code",
      "metadata": {
        "colab": {
          "base_uri": "https://localhost:8080/"
        },
        "id": "TqQpFKrt798-",
        "outputId": "57566889-347c-433f-d321-83b143845d59"
      },
      "source": [
        "accuracy_score(predict_o, y_test_o)"
      ],
      "execution_count": 355,
      "outputs": [
        {
          "output_type": "execute_result",
          "data": {
            "text/plain": [
              "0.7994186046511628"
            ]
          },
          "metadata": {
            "tags": []
          },
          "execution_count": 355
        }
      ]
    }
  ]
}